{
 "cells": [
  {
   "cell_type": "code",
   "execution_count": 1,
   "id": "615ab8fa",
   "metadata": {
    "ExecuteTime": {
     "end_time": "2021-11-22T01:06:26.922722Z",
     "start_time": "2021-11-22T01:06:26.293868Z"
    }
   },
   "outputs": [
    {
     "data": {
      "application/vnd.jupyter.widget-view+json": {
       "model_id": "659530e54858403c95a71b7860b714a7",
       "version_major": 2,
       "version_minor": 0
      },
      "text/plain": []
     },
     "metadata": {},
     "output_type": "display_data"
    }
   ],
   "source": [
    "%load_ext autoreload\n",
    "%autoreload 2\n",
    "\n",
    "import copy\n",
    "import numpy as np\n",
    "import isambard\n",
    "import tempfile\n",
    "\n",
    "# for visualisation of moelcules\n",
    "import nglview"
   ]
  },
  {
   "cell_type": "markdown",
   "id": "5cc861c5",
   "metadata": {},
   "source": [
    "## Utilities & Definitions "
   ]
  },
  {
   "cell_type": "code",
   "execution_count": 2,
   "id": "dcd94d64",
   "metadata": {
    "ExecuteTime": {
     "end_time": "2021-11-22T01:06:26.976906Z",
     "start_time": "2021-11-22T01:06:26.924777Z"
    }
   },
   "outputs": [],
   "source": [
    "def fix_PDB_element_column(PDB_file):\n",
    "    \"\"\"\n",
    "    Some modelling packages do not write the element column in the PDB. \n",
    "    This function returns a fixed PDB string with correct values for the element column. \n",
    "\n",
    "    Assigns each atom's element based on the atom name field.\n",
    "    Rules specified in the format specification:\n",
    "        - Alignment of one-letter atom name such as C starts at column 14,\n",
    "          while two-letter atom name such as FE starts at column 13.\n",
    "        - Atom nomenclature begins with atom type.\n",
    "    adapted from : https://github.com/haddocking/pdb-tools/blob/master/pdbtools/pdb_element.py\n",
    "    \"\"\"\n",
    "    def pad_line(line):\n",
    "        \"\"\"\n",
    "        Helper function to pad line to 80 characters in case it is shorter\n",
    "        \"\"\"\n",
    "        size_of_line = len(line)\n",
    "        if size_of_line < 80:\n",
    "            padding = 80 - size_of_line + 1\n",
    "            line = line.strip('\\n') + ' ' * padding + '\\n'\n",
    "        return line[:81]  # 80 + newline character\n",
    "\n",
    "    elements = set(\n",
    "        ('H', 'D', 'HE', 'LI', 'BE', 'B', 'C', 'N', 'O', 'F', 'NE', 'NA', 'MG',\n",
    "         'AL', 'SI', 'P', 'S', 'CL', 'AR', 'K', 'CA', 'SC', 'TI', 'V', 'CR',\n",
    "         'MN', 'FE', 'CO', 'NI', 'CU', 'ZN', 'GA', 'GE', 'AS', 'SE', 'BR',\n",
    "         'KR', 'RB', 'SR', 'Y', 'ZR', 'NB', 'MO', 'TC', 'RU', 'RH', 'PD', 'AG',\n",
    "         'CD', 'IN', 'SN', 'SB', 'TE', 'I', 'XE', 'CS', 'BA', 'LA', 'CE', 'PR',\n",
    "         'ND', 'PM', 'SM', 'EU', 'GD', 'TB', 'DY', 'HO', 'ER', 'TM', 'YB',\n",
    "         'LU', 'HF', 'TA', 'W', 'RE', 'OS', 'IR', 'PT', 'AU', 'HG', 'TL', 'PB',\n",
    "         'BI', 'PO', 'AT', 'RN', 'FR', 'RA', 'AC', 'TH', 'PA', 'U', 'NP', 'PU',\n",
    "         'AM', 'CM', 'BK', 'CF', 'ES', 'FM', 'MD', 'NO', 'LR', 'RF', 'DB',\n",
    "         'SG', 'BH', 'HS', 'MT'))\n",
    "    records = ('ATOM', 'HETATM', 'ANISOU')\n",
    "    ret = ''\n",
    "    with open(PDB_file, 'r') as f:\n",
    "        lines = f.readlines()\n",
    "    for line in lines:\n",
    "        line = pad_line(line.strip('\\n'))\n",
    "        if line.startswith(records):\n",
    "            line = pad_line(line)\n",
    "            atom_name = line[12:16]\n",
    "            if atom_name[0].isalpha() and not atom_name[2:].isdigit():\n",
    "                element = atom_name.strip()\n",
    "            else:\n",
    "                atom_name = atom_name.strip()\n",
    "                if atom_name[0].isdigit():\n",
    "                    element = atom_name[1]\n",
    "                else:\n",
    "                    element = atom_name[0]\n",
    "            if element not in elements:\n",
    "                element = '  '  # empty element in case we cannot assign\n",
    "                print(\n",
    "                    'fix_PDB_element_column(): WARNING, cannot assign element.'\n",
    "                )\n",
    "            line = line[:76] + element.rjust(2) + line[78:]\n",
    "        ret += line + '\\n'\n",
    "    return ret\n",
    "\n",
    "\n",
    "def visualise(mol):\n",
    "    '''A helper function to visualise and ampal object in the notebook using nglview\n",
    "    '''\n",
    "    view = None\n",
    "    with tempfile.NamedTemporaryFile(delete=True, suffix='.pdb') as tmp:\n",
    "        tmp.write(mol.pdb.encode())\n",
    "        tmp.seek(0) #Resets the buffer back to the first line\n",
    "        view = nglview.show_file(tmp.name)\n",
    "    return view\n",
    "\n",
    "\n",
    "def get_coordinate_system(monomer):\n",
    "    '''Caclulates the local coordinate system of a monomer of scapTet \n",
    "    Local coordinate system contains 3 orthogonal unit vectors representing the orientation of the monomer.\n",
    "    \n",
    "    Args:\n",
    "        monomer (isambard.ampal.Assembly): Assembly object containing the scapTet \n",
    "    \n",
    "    Returns:\n",
    "        A tuple of 3 (np.ndarray) vectors (v24, v13, z) where  \n",
    "            v24 extends from helix 2 to helix 4\n",
    "            v13 extends from helix 1 to helix 3\n",
    "            z = v24 cross v13\n",
    "    '''\n",
    "    start = np.sum([monomer[0][1:13].backbone.centre_of_mass,\n",
    "                    monomer[0][44:56].backbone.centre_of_mass,\n",
    "                    monomer[0][64:76].backbone.centre_of_mass,\n",
    "                    monomer[0][108:122].backbone.centre_of_mass], axis=0)/4.\n",
    "    end = np.sum([monomer[0][13:26].backbone.centre_of_mass,\n",
    "                  monomer[0][32:44].backbone.centre_of_mass,\n",
    "                  monomer[0][76:89].backbone.centre_of_mass,\n",
    "                  monomer[0][95:108].backbone.centre_of_mass], axis=0)/4.\n",
    "    z=end-start\n",
    "    z/=np.linalg.norm(z)\n",
    "    \n",
    "    v13 = monomer[0][1:26].backbone.centre_of_mass - monomer[0][64:89].backbone.centre_of_mass\n",
    "    v24 = monomer[0][32:56].backbone.centre_of_mass - monomer[0][95:122].backbone.centre_of_mass\n",
    "    v13 -= np.dot(v13,z)*z\n",
    "    v24 -= np.dot(v24,z)*z\n",
    "    v13 /= np.linalg.norm(v13)\n",
    "    v24 /= np.linalg.norm(v24)\n",
    "    \n",
    "    return v24, v13, z  \n",
    "\n",
    "\n",
    "class Monomer(isambard.ampal.Assembly):\n",
    "    '''An object inhereted from the isambard.ampal.Assembly with two additional methods:\n",
    "        - coordinat_sytem: (which is a property) and returns a local coordinate system of the Monomer\n",
    "        - visualise(): visualises the Monomer\n",
    "    '''\n",
    "    def __init__(self, monomer):\n",
    "        super().__init__()\n",
    "        self._molecules = monomer._molecules\n",
    "        self.id = monomer.id\n",
    "\n",
    "    @property\n",
    "    def coordinate_system(self):\n",
    "        return get_coordinate_system(self)\n",
    "    \n",
    "    def visualise(self, coordinate_system=False):\n",
    "        view = visualise(self)\n",
    "        if coordinate_system:\n",
    "            for v, name, color in zip(self.coordinate_system, \n",
    "                                      ['x', 'y', 'z'], \n",
    "                                      [[1,0,0], [0,1,0], [0,0,1]]\n",
    "                                     ):\n",
    "                view.shape.add_arrow([0,0,0], 5*v, color, 0.5, name)\n",
    "        return view\n",
    "    \n",
    "\n",
    "class Dimer(isambard.ampal.Assembly):\n",
    "    def __init__(self, monomer:Monomer, a=20, theta=0, phi1=0, phi2=0, z_shift=0, parallel=1):\n",
    "        '''Constructs a dimer from monomer of type Monomer\n",
    "        \n",
    "        Args:\n",
    "            - `monomer` (`Monomer`): the building block which is an instance of the `Monomer` class\n",
    "            - `a` (`float`): radial separation between the two building blocks\n",
    "            - `theta` (`float`): rotation angle of the second block with respect to the first one in the xy-plane \n",
    "            - `phi1` (`float`): twist angle (i.e. rotation around z-axis) of the first building block in degrees\n",
    "            - `phi1` (`float`): twist angle (i.e. rotation around z-axis) of the second building block in degrees\n",
    "            - `z_shift` (`float`): relative shift of the two building blocks in the z direction\n",
    "            - `parallel` (`int`): can either be 1 (parallel) or -1 (anti-parallel)   \n",
    "        '''\n",
    "        super().__init__()\n",
    "        \n",
    "        self.a=a\n",
    "        self.theta=theta\n",
    "        self.phi1=phi1\n",
    "        self.phi2=phi2\n",
    "        self.z_shift=z_shift\n",
    "        self.parallel=parallel\n",
    "        \n",
    "        m1 = copy.deepcopy(monomer)\n",
    "        m2 = copy.deepcopy(monomer)\n",
    "\n",
    "        assert parallel in [1, -1], \"'parallel' must be in [-1, 1].\" \n",
    "        if parallel==-1:\n",
    "            m2.rotate(axis=m2.coordinate_system[0], angle=180, point=m2.centre_of_mass)\n",
    "        \n",
    "        m1.rotate(angle=self.phi1, axis=m1.coordinate_system[2])\n",
    "        m2.rotate(angle=self.phi2, axis=m2.coordinate_system[2])\n",
    "        T = np.array([self.a*np.cos(self.theta/180*np.pi),  \n",
    "                      self.a*np.sin(self.theta/180*np.pi) , \n",
    "                      self.z_shift])\n",
    "        m2.translate(T)\n",
    "        \n",
    "        \n",
    "        self._molecules = (m1 + m2)._molecules\n",
    "        self.id = f\"dimer({m1.id})\"\n",
    "        self.relabel_all()\n",
    "        for m in self._molecules:\n",
    "            m.parent = self\n",
    "            \n",
    "    def visualise(self):\n",
    "        return visualise(self)"
   ]
  },
  {
   "cell_type": "markdown",
   "id": "ec626b08",
   "metadata": {},
   "source": [
    "# scapTet as the monomer\n",
    "The building block of the dimer is a single-chain anti-parallel tetramer, which we store in the `Monomer` class (defined above). The monomer class adds a property to the `Assembly` object to return the local coordinate system of the building block. The local coordinate system is useful when we want to build a parametric model for the dimer.\n",
    "\n",
    "We have used the `Monomer.visualise()` method with the option `coordinate_system=True` to visualise the monomer, and its local coordinate system (you'll need to install `nglview` to see this)."
   ]
  },
  {
   "cell_type": "code",
   "execution_count": 3,
   "id": "7a1307f8",
   "metadata": {
    "ExecuteTime": {
     "end_time": "2021-11-22T01:06:27.146644Z",
     "start_time": "2021-11-22T01:06:26.986882Z"
    }
   },
   "outputs": [
    {
     "data": {
      "application/vnd.jupyter.widget-view+json": {
       "model_id": "4413a5a323294fe39467ee2b5b6103b3",
       "version_major": 2,
       "version_minor": 0
      },
      "text/plain": [
       "NGLWidget()"
      ]
     },
     "metadata": {},
     "output_type": "display_data"
    }
   ],
   "source": [
    "scapTet3_pdb_path = 'scapTet.pdb'\n",
    "scapTet3 = isambard.ampal.load_pdb(scapTet3_pdb_path)\n",
    "monomer = Monomer(scapTet3)\n",
    "monomer.visualise(coordinate_system=True)"
   ]
  },
  {
   "cell_type": "markdown",
   "id": "cbbc62df",
   "metadata": {},
   "source": [
    "# Parametric model for the dimer\n",
    "`Dimer` class builds a parametric model for the dimer with the following parameters:\n",
    "\n",
    "- `monomer` (`Monomer`): the building block which is an instance of the `Monomer` class\n",
    "- `a` (`float`): radial separation between the two building blocks\n",
    "- `theta` (`float`): rotation angle of the second block with respect to the first one in the xy-plane \n",
    "- `phi1` (`float`): twist angle (i.e. rotation around z-axis) of the first building block in degrees\n",
    "- `phi1` (`float`): twist angle (i.e. rotation around z-axis) of the second building block in degrees\n",
    "- `z_shift` (`float`): relative shift of the two building blocks in the z direction\n",
    "- `parallel` (`int`): can either be 1 (parallel) or -1 (anti-parallel)  "
   ]
  },
  {
   "cell_type": "code",
   "execution_count": 4,
   "id": "3d6c2b1f",
   "metadata": {
    "ExecuteTime": {
     "end_time": "2021-11-22T01:06:27.718422Z",
     "start_time": "2021-11-22T01:06:27.151966Z"
    }
   },
   "outputs": [
    {
     "data": {
      "application/vnd.jupyter.widget-view+json": {
       "model_id": "6ac64b7540cc4a35b8c436ee3fa8ca4a",
       "version_major": 2,
       "version_minor": 0
      },
      "text/plain": [
       "NGLWidget()"
      ]
     },
     "metadata": {},
     "output_type": "display_data"
    }
   ],
   "source": [
    "dimer = Dimer(monomer, a=20, theta=90, phi1=0, phi2=0, z_shift=0, parallel=1)\n",
    "dimer.visualise()"
   ]
  },
  {
   "cell_type": "code",
   "execution_count": 5,
   "id": "5c2e569a",
   "metadata": {
    "ExecuteTime": {
     "end_time": "2021-11-22T01:06:27.800399Z",
     "start_time": "2021-11-22T01:06:27.723913Z"
    }
   },
   "outputs": [
    {
     "data": {
      "text/plain": [
       "[<Polypeptide containing 123 Residues. Sequence: GELEALAQELEA...>,\n",
       " <Polypeptide containing 123 Residues. Sequence: GELEALAQELEA...>]"
      ]
     },
     "execution_count": 5,
     "metadata": {},
     "output_type": "execute_result"
    }
   ],
   "source": [
    "dimer._molecules"
   ]
  },
  {
   "cell_type": "markdown",
   "id": "fabd42f6",
   "metadata": {},
   "source": [
    "# Choose a sequence and pack side-chains\n",
    "Here, we choose the dimer sequence and pack the side chains around the rigid back-bone using [Scwrl4](http://dunbrack.fccc.edu/SCWRL3.php/). Since the sequence is not the same for the two monomers this model is *hetero-dimer*.\n",
    "\n",
    "*Notes*\n",
    "- I notices that on macOS the latest `Scwrl4` requires passing an additional argument `-p configuration_file`. This may cause `isambard.modelling.pack_side_chains_scwrl()` to fail. My hack to avoid this problem was:\n",
    "    \n",
    "```\n",
    "scwrl_root=/Users/majid/scwrl4  # replace this path with the path to your own Scwrl4\n",
    "cd $scwrl_root\n",
    "mv Scwrl4 Scwrl4_\n",
    "echo '#!/bin/bash' > Scwrl4\n",
    "echo '/Users/majid/scwrl4/Scwrl4_ -p /Users/majid/scwrl4/Scwrl4.ini \"$@\"' >> Scwrl4\n",
    "chmod +x Scwrl4\n",
    "```\n",
    " \n",
    "- You'll also need to add the `Scwrl4` path (i.e. `scwrl_root` above) to your PATH (see [here](https://stackoverflow.com/a/14638025))\n",
    "\n",
    "- After successful packing of the side-chains, `dimer.tags` should contains the packing score in `key='scwrl_score'`."
   ]
  },
  {
   "cell_type": "code",
   "execution_count": 6,
   "id": "352d74f4",
   "metadata": {
    "ExecuteTime": {
     "end_time": "2021-11-22T01:06:27.872311Z",
     "start_time": "2021-11-22T01:06:27.803938Z"
    }
   },
   "outputs": [
    {
     "data": {
      "text/plain": [
       "['GELEALAQELEALAQKLKALAQKLKALTSDSQELEELAEALEDLAEWLKELAQKLKARARLDAQELEELAEELEELAEWLKDLAQKLKALTSDSQELEALAQELEALAEKLKALAQKLKALAQ',\n",
       " 'GELERLAAELERLAKKLKALAQKLKALTSDSQELEALAQELEALAEKLKALAQKLKARARLDAQELEALAQELEALAQKLKALAQKLKALTSDSQELERLARELEKLAKKLKALAQKLKALAQ']"
      ]
     },
     "execution_count": 6,
     "metadata": {},
     "output_type": "execute_result"
    }
   ],
   "source": [
    "sequences = [\"\"\"G ELEALAQ ELEALAQ KLKALAQ KLKAL    TSDS \n",
    "                Q ELEELAE ALEDLAE WLKELAQ KLKA     RARLD\n",
    "                AQ ELEELAE ELEELAE WLKDLAQ KLKAL   TSDS\n",
    "                Q ELEALAQ ELEALAE KLKALAQ KLKALAQ\"\"\",\n",
    "             \"\"\"G ELERLAA ELERLAK KLKALAQ KLKAL    TSDS\n",
    "                Q ELEALAQ ELEALAE KLKALAQ KLKA     RARLD\n",
    "                AQ ELEALAQ ELEALAQ KLKALAQ KLKAL   TSDS\n",
    "                Q ELERLAR ELEKLAK KLKALAQ KLKALAQ\"\"\"]\n",
    "sequences = [s.replace(\" \", \"\").replace(\"\\n\", \"\") for s in sequences]\n",
    "sequences"
   ]
  },
  {
   "cell_type": "code",
   "execution_count": 7,
   "id": "2cbbcaaa",
   "metadata": {
    "ExecuteTime": {
     "end_time": "2021-11-22T01:06:42.359435Z",
     "start_time": "2021-11-22T01:06:27.882037Z"
    }
   },
   "outputs": [
    {
     "data": {
      "text/plain": [
       "{'scwrl_score': 2385.25}"
      ]
     },
     "execution_count": 7,
     "metadata": {},
     "output_type": "execute_result"
    }
   ],
   "source": [
    "import isambard.modelling as modelling\n",
    "dimer = modelling.pack_side_chains_scwrl(dimer, sequences=dimer.sequences, rigid_rotamer_model=False)\n",
    "dimer.tags"
   ]
  },
  {
   "cell_type": "markdown",
   "id": "234af248",
   "metadata": {},
   "source": [
    "# Optimise hetero-dimer parameters\n",
    "Now we are ready to optimise the parameters of our parametric model by minimising the BUDE energy for the sequence chosen above."
   ]
  },
  {
   "cell_type": "code",
   "execution_count": 8,
   "id": "398e6249",
   "metadata": {
    "ExecuteTime": {
     "end_time": "2021-11-22T01:06:43.352498Z",
     "start_time": "2021-11-22T01:06:42.363936Z"
    }
   },
   "outputs": [],
   "source": [
    "import budeff\n",
    "import isambard.optimisation.evo_optimizers as ev_opts\n",
    "from isambard.optimisation.evo_optimizers import Parameter\n",
    "from functools import partial\n",
    "\n",
    "def get_buff_total_energy(ampal_object):\n",
    "    return budeff.get_internal_energy(ampal_object).total_energy\n",
    "\n",
    "specification = partial(Dimer, monomer=monomer)"
   ]
  },
  {
   "cell_type": "markdown",
   "id": "b7339b94",
   "metadata": {},
   "source": [
    "## Define the search space\n",
    "For each dynamic parameters, we specify their mean and the maximum variance around the mean.\n",
    "For static parameters, we give their values."
   ]
  },
  {
   "cell_type": "code",
   "execution_count": 9,
   "id": "26aeeb7d",
   "metadata": {
    "ExecuteTime": {
     "end_time": "2021-11-22T01:06:43.383895Z",
     "start_time": "2021-11-22T01:06:43.354525Z"
    }
   },
   "outputs": [],
   "source": [
    "parameters = [\n",
    "    Parameter.static('monomer', monomer),\n",
    "    Parameter.dynamic('a', 20, 5),\n",
    "    Parameter.dynamic('theta', 45, 45),\n",
    "    Parameter.dynamic('phi1', 0, 180),\n",
    "    Parameter.dynamic('phi2', 0, 180),\n",
    "    Parameter.static('z_shift', 0),\n",
    "    Parameter.static('parallel', -1),\n",
    "]"
   ]
  },
  {
   "cell_type": "markdown",
   "id": "a994a61f",
   "metadata": {},
   "source": [
    "## Run optimisation\n",
    "For demonstration, we run a very short search using genetic algorithm (`GA`). Note that with such a short search we cannot be sure if the minimum energy configuration found is a global one.\n",
    "\n",
    "It seems that when using more than 1 core the optimisation will fail. I will see if I can fix this issue."
   ]
  },
  {
   "cell_type": "code",
   "execution_count": null,
   "id": "0cd0ecdd",
   "metadata": {
    "ExecuteTime": {
     "start_time": "2021-11-22T01:06:26.237Z"
    }
   },
   "outputs": [],
   "source": [
    "opt_ga = ev_opts.GA(Dimer, sequences, parameters, get_buff_total_energy)\n",
    "opt_ga.run_opt(pop_size=200,\n",
    "               generations=5,\n",
    "               cores=1,\n",
    "               plot=True)"
   ]
  },
  {
   "cell_type": "code",
   "execution_count": null,
   "id": "a5b9847f",
   "metadata": {
    "ExecuteTime": {
     "start_time": "2021-11-22T01:06:26.239Z"
    }
   },
   "outputs": [],
   "source": [
    "best_dimer = opt_ga.best_model\n",
    "best_idx = opt_ga.halloffame[0]\n",
    "final_params = opt_ga.parse_individual(best_idx)\n",
    "print(final_params)"
   ]
  },
  {
   "cell_type": "code",
   "execution_count": null,
   "id": "3e2253fe",
   "metadata": {
    "ExecuteTime": {
     "start_time": "2021-11-22T01:06:26.243Z"
    }
   },
   "outputs": [],
   "source": [
    "# visulaise a dimer (without packing side-chains)\n",
    "Dimer(*final_params).visualise()"
   ]
  },
  {
   "cell_type": "code",
   "execution_count": null,
   "id": "52157483",
   "metadata": {
    "ExecuteTime": {
     "start_time": "2021-11-22T01:06:26.250Z"
    }
   },
   "outputs": [],
   "source": [
    "# Saving the best dimer PDB file\n",
    "with open('best_dimer.pdb', 'w') as f:\n",
    "    f.write(best_dimer.pdb)"
   ]
  }
 ],
 "metadata": {
  "kernelspec": {
   "display_name": "Python 3 (ipykernel)",
   "language": "python",
   "name": "python3"
  },
  "language_info": {
   "codemirror_mode": {
    "name": "ipython",
    "version": 3
   },
   "file_extension": ".py",
   "mimetype": "text/x-python",
   "name": "python",
   "nbconvert_exporter": "python",
   "pygments_lexer": "ipython3",
   "version": "3.8.8"
  },
  "toc": {
   "base_numbering": 1,
   "nav_menu": {},
   "number_sections": true,
   "sideBar": true,
   "skip_h1_title": false,
   "title_cell": "Table of Contents",
   "title_sidebar": "Contents",
   "toc_cell": false,
   "toc_position": {},
   "toc_section_display": true,
   "toc_window_display": false
  }
 },
 "nbformat": 4,
 "nbformat_minor": 5
}
