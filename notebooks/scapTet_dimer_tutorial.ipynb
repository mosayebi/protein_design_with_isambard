{
 "cells": [
  {
   "cell_type": "code",
   "execution_count": 1,
   "id": "615ab8fa",
   "metadata": {
    "ExecuteTime": {
     "end_time": "2021-11-27T16:13:44.680406Z",
     "start_time": "2021-11-27T16:13:44.186361Z"
    }
   },
   "outputs": [],
   "source": [
    "%load_ext autoreload\n",
    "%autoreload 2\n",
    "\n",
    "import numpy as np\n",
    "import isambard\n",
    "from isambard.modelling import pack_side_chains_scwrl"
   ]
  },
  {
   "cell_type": "markdown",
   "id": "b1780cfc",
   "metadata": {},
   "source": [
    "# Motivation\n",
    "In this notebook, we will build a parametric model for a dimer made of single-chain anti-parallel tetramer. Then, we choose a sequence and optimise the parameters of dimer.\n",
    "\n",
    "# scapTet as the monomer\n",
    "The building block of the dimer is a single-chain anti-parallel tetramer stored in `scapTet.pdb` file. First we read this pdb file and get its `Assembly` object. Then, we define a function for this assembly that returns a local coordinate system of our building block. The local coordinate system is useful when we want to build a parametric model from this building block (e.g. a dimer).\n",
    "\n",
    "An instance of `protein_design.specifications.Monomer` is constructed from the monomer assembly and its local-coordinate-system function. We will use `Monomer` to build a dimer (or higher order assemblies). \n",
    "\n",
    "Moreover, the `Monomer.visualise()` method with the option `coordinate_system=True` can be used to visualise the monomer, and its local coordinate system (you'll need to install `nglview` for this)."
   ]
  },
  {
   "cell_type": "code",
   "execution_count": 2,
   "id": "aa7985c3",
   "metadata": {
    "ExecuteTime": {
     "end_time": "2021-11-27T16:13:44.804620Z",
     "start_time": "2021-11-27T16:13:44.683645Z"
    }
   },
   "outputs": [],
   "source": [
    "# load pdb file to an assembly\n",
    "scapTet_pdb_path = 'scapTet.pdb'\n",
    "scapTet = isambard.ampal.load_pdb(scapTet_pdb_path)"
   ]
  },
  {
   "cell_type": "markdown",
   "id": "f333fe9f",
   "metadata": {},
   "source": [
    "define the local coordinate system for scapTet"
   ]
  },
  {
   "cell_type": "code",
   "execution_count": 3,
   "id": "c01c1237",
   "metadata": {
    "ExecuteTime": {
     "end_time": "2021-11-27T16:13:44.857621Z",
     "start_time": "2021-11-27T16:13:44.814461Z"
    }
   },
   "outputs": [],
   "source": [
    "def get_coordinate_system_scapTet(monomer):\n",
    "    '''Caclulates the local coordinate system of a monomer of scapTet \n",
    "    Local coordinate system contains 3 orthogonal unit vectors representing the orientation of the monomer.\n",
    "    \n",
    "    Args:\n",
    "        monomer (isambard.ampal.Assembly): Assembly object containing the scapTet \n",
    "    \n",
    "    Returns:\n",
    "        A tuple of 3 (np.ndarray) vectors (v24, v13, z) where  \n",
    "            v24 extends from helix 2 to helix 4\n",
    "            v13 extends from helix 1 to helix 3\n",
    "            z = v24 cross v13\n",
    "    '''\n",
    "    start = np.sum([monomer[0][1:13].backbone.centre_of_mass,\n",
    "                    monomer[0][44:56].backbone.centre_of_mass,\n",
    "                    monomer[0][64:76].backbone.centre_of_mass,\n",
    "                    monomer[0][108:122].backbone.centre_of_mass], axis=0)/4.\n",
    "    end = np.sum([monomer[0][13:26].backbone.centre_of_mass,\n",
    "                  monomer[0][32:44].backbone.centre_of_mass,\n",
    "                  monomer[0][76:89].backbone.centre_of_mass,\n",
    "                  monomer[0][95:108].backbone.centre_of_mass], axis=0)/4.\n",
    "    z=end-start\n",
    "    z/=np.linalg.norm(z)\n",
    "    \n",
    "    v13 = monomer[0][1:26].backbone.centre_of_mass - monomer[0][64:89].backbone.centre_of_mass\n",
    "    v24 = monomer[0][32:56].backbone.centre_of_mass - monomer[0][95:122].backbone.centre_of_mass\n",
    "    v13 -= np.dot(v13,z)*z\n",
    "    v24 -= np.dot(v24,z)*z\n",
    "    v13 /= np.linalg.norm(v13)\n",
    "    v24 /= np.linalg.norm(v24)\n",
    "    \n",
    "    return v24, v13, z "
   ]
  },
  {
   "cell_type": "code",
   "execution_count": 4,
   "id": "7a1307f8",
   "metadata": {
    "ExecuteTime": {
     "end_time": "2021-11-27T16:13:45.333199Z",
     "start_time": "2021-11-27T16:13:44.862879Z"
    }
   },
   "outputs": [
    {
     "data": {
      "application/vnd.jupyter.widget-view+json": {
       "model_id": "250caed591774836850bc0a88c6c7459",
       "version_major": 2,
       "version_minor": 0
      },
      "text/plain": []
     },
     "metadata": {},
     "output_type": "display_data"
    },
    {
     "data": {
      "application/vnd.jupyter.widget-view+json": {
       "model_id": "b5eb34ed70784703a2870275eaf64369",
       "version_major": 2,
       "version_minor": 0
      },
      "text/plain": [
       "NGLWidget()"
      ]
     },
     "metadata": {},
     "output_type": "display_data"
    }
   ],
   "source": [
    "from protein_design.specifications import Monomer\n",
    "monomer = Monomer(scapTet, get_coordinate_system_func=get_coordinate_system_scapTet)\n",
    "monomer.visualise(coordinate_system=True)"
   ]
  },
  {
   "cell_type": "markdown",
   "id": "34526f79",
   "metadata": {},
   "source": [
    "# Parametric model for the dimer\n",
    "`Dimer` class builds a parametric model for the dimer from the monomer.  The relative position and orientation of the second monomer is specified relative to the first monomer using spherical coordinate system with parameters (`r`, `theta`, `phi`) and Euler angles (`alpha`, `beta`, `gamma`), respectively.\n",
    "\n",
    "Our conventions for the ranges of the parameters:\n",
    "- `r` : [0, inf]\n",
    "- `phi`, `alpha` & `gamma` : [0, 360]\n",
    "- `theta` & `beta` : [0, 180]\n",
    "\n",
    "Notes:\n",
    "- In `Dimer` class, we added a property that checks for overlaps between the two backbone atoms. This is useful when optimising the parameters. Because we do not want to call the expensive side-chain packing function for dimers with overlap. "
   ]
  },
  {
   "cell_type": "code",
   "execution_count": 5,
   "id": "3d6c2b1f",
   "metadata": {
    "ExecuteTime": {
     "end_time": "2021-11-27T16:13:45.897486Z",
     "start_time": "2021-11-27T16:13:45.335861Z"
    }
   },
   "outputs": [
    {
     "data": {
      "application/vnd.jupyter.widget-view+json": {
       "model_id": "0633c55279b84d8b98998b6d1acbde8a",
       "version_major": 2,
       "version_minor": 0
      },
      "text/plain": [
       "NGLWidget()"
      ]
     },
     "metadata": {},
     "output_type": "display_data"
    }
   ],
   "source": [
    "from protein_design.specifications import Dimer\n",
    "\n",
    "# building an anti-paraller dimer\n",
    "dimer = Dimer(monomer, r=21, theta=90, phi=0, alpha=0, beta=180, gamma=0)\n",
    "dimer.visualise()"
   ]
  },
  {
   "cell_type": "code",
   "execution_count": 6,
   "id": "00726859",
   "metadata": {
    "ExecuteTime": {
     "end_time": "2021-11-27T16:13:45.948471Z",
     "start_time": "2021-11-27T16:13:45.900080Z"
    }
   },
   "outputs": [
    {
     "data": {
      "text/plain": [
       "0"
      ]
     },
     "execution_count": 6,
     "metadata": {},
     "output_type": "execute_result"
    }
   ],
   "source": [
    "dimer.num_overlaps()"
   ]
  },
  {
   "cell_type": "code",
   "execution_count": 7,
   "id": "5c2e569a",
   "metadata": {
    "ExecuteTime": {
     "end_time": "2021-11-27T16:13:45.985703Z",
     "start_time": "2021-11-27T16:13:45.950806Z"
    }
   },
   "outputs": [
    {
     "data": {
      "text/plain": [
       "[<Polypeptide containing 123 Residues. Sequence: GELEALAQELEA...>,\n",
       " <Polypeptide containing 123 Residues. Sequence: GELEALAQELEA...>]"
      ]
     },
     "execution_count": 7,
     "metadata": {},
     "output_type": "execute_result"
    }
   ],
   "source": [
    "dimer._molecules"
   ]
  },
  {
   "cell_type": "markdown",
   "id": "d5c854e2",
   "metadata": {},
   "source": [
    "# Choose a sequence and pack side-chains\n",
    "Here, we choose the dimer sequence and pack the side chains around the rigid back-bone using [Scwrl4](http://dunbrack.fccc.edu/SCWRL3.php/). Since the sequence is not the same for the two monomers this model is *hetero-dimer*.\n",
    "\n",
    "*Notes*\n",
    "- I noticed that on macOS the latest `Scwrl4` requires passing an additional argument `-p configuration_file`. This may cause `isambard.modelling.pack_side_chains_scwrl()` to fail. My hack to avoid this problem was:\n",
    "    \n",
    "```\n",
    "scwrl_root=/Users/majid/scwrl4  # replace this path with the path to your own Scwrl4\n",
    "cd ${scwrl_root}\n",
    "mv Scwrl4 Scwrl4_\n",
    "echo '#!/bin/bash' > Scwrl4\n",
    "echo '${scwrl_root}/Scwrl4_ -p ${scwrl_root}/Scwrl4.ini \"$@\"' >> Scwrl4\n",
    "chmod +x Scwrl4\n",
    "```\n",
    " \n",
    "- You'll also need to add the `Scwrl4` path (i.e. `scwrl_root` above) to your PATH (see [here](https://stackoverflow.com/a/14638025))\n",
    "\n",
    "- After successful packing of the side-chains, `dimer.tags` should contain the packing score in `key='scwrl_score'`."
   ]
  },
  {
   "cell_type": "code",
   "execution_count": 8,
   "id": "352d74f4",
   "metadata": {
    "ExecuteTime": {
     "end_time": "2021-11-27T16:13:46.080971Z",
     "start_time": "2021-11-27T16:13:45.991814Z"
    }
   },
   "outputs": [
    {
     "data": {
      "text/plain": [
       "['GELEALAQELEALAQKLKALAQKLKALTSDSQELEELAEALEDLAEWLKELAQKLKARARLDAQELEELAEELEELAEWLKDLAQKLKALTSDSQELEALAQELEALAEKLKALAQKLKALAQ',\n",
       " 'GELERLAAELERLAKKLKALAQKLKALTSDSQELEALAQELEALAEKLKALAQKLKARARLDAQELEALAQELEALAQKLKALAQKLKALTSDSQELERLARELEKLAKKLKALAQKLKALAQ']"
      ]
     },
     "execution_count": 8,
     "metadata": {},
     "output_type": "execute_result"
    }
   ],
   "source": [
    "sequences = [\"\"\"\n",
    "                G  ELEALAQ ELEALAQ KLKALAQ KLKAL   TSDS \n",
    "                Q  ELEELAE ALEDLAE WLKELAQ KLKA    RARLD\n",
    "                AQ ELEELAE ELEELAE WLKDLAQ KLKAL   TSDS\n",
    "                Q  ELEALAQ ELEALAE KLKALAQ KLKALAQ\n",
    "             \"\"\",\n",
    "             \"\"\"\n",
    "                G  ELERLAA ELERLAK KLKALAQ KLKAL   TSDS\n",
    "                Q  ELEALAQ ELEALAE KLKALAQ KLKA    RARLD\n",
    "                AQ ELEALAQ ELEALAQ KLKALAQ KLKAL   TSDS\n",
    "                Q  ELERLAR ELEKLAK KLKALAQ KLKALAQ\n",
    "             \"\"\"]\n",
    "sequences = [s.replace(\" \", \"\").replace(\"\\n\", \"\") for s in sequences]\n",
    "sequences"
   ]
  },
  {
   "cell_type": "code",
   "execution_count": 9,
   "id": "2cbbcaaa",
   "metadata": {
    "ExecuteTime": {
     "end_time": "2021-11-27T16:14:36.921852Z",
     "start_time": "2021-11-27T16:13:46.086163Z"
    }
   },
   "outputs": [
    {
     "data": {
      "text/plain": [
       "{'scwrl_score': 718.305}"
      ]
     },
     "execution_count": 9,
     "metadata": {},
     "output_type": "execute_result"
    }
   ],
   "source": [
    "# note that the output of the function `pack_side_chains_scwrl()` is not of type `Dimer`.\n",
    "dimer = pack_side_chains_scwrl(dimer, sequences=dimer.sequences, rigid_rotamer_model=False)\n",
    "dimer.tags"
   ]
  },
  {
   "cell_type": "markdown",
   "id": "f49d3032",
   "metadata": {},
   "source": [
    "# Optimise hetero-dimer parameters\n",
    "Now we are ready to optimise the parameters of our parametric model by minimising the BUDE energy for the sequence chosen above."
   ]
  },
  {
   "cell_type": "code",
   "execution_count": 10,
   "id": "398e6249",
   "metadata": {
    "ExecuteTime": {
     "end_time": "2021-11-27T16:14:37.821445Z",
     "start_time": "2021-11-27T16:14:36.927211Z"
    }
   },
   "outputs": [],
   "source": [
    "# we will use custom (more efficient) energy calculation and build functions\n",
    "from protein_design.specifications import get_buff_total_energy\n",
    "from protein_design.specifications import build_model\n",
    "\n",
    "import isambard.optimisation.evo_optimizers as ev_opts\n",
    "from isambard.optimisation.evo_optimizers import Parameter"
   ]
  },
  {
   "cell_type": "markdown",
   "id": "1c284817",
   "metadata": {},
   "source": [
    "## Define the search space\n",
    "For each dynamic parameters, we specify their mean and the maximum variance around the mean.\n",
    "For static parameters, we give their values."
   ]
  },
  {
   "cell_type": "code",
   "execution_count": 11,
   "id": "d5bf2ae8",
   "metadata": {
    "ExecuteTime": {
     "end_time": "2021-11-27T16:14:37.856571Z",
     "start_time": "2021-11-27T16:14:37.823383Z"
    }
   },
   "outputs": [],
   "source": [
    "parameters = [\n",
    "    Parameter.static('monomer', monomer),\n",
    "    Parameter.dynamic('a', 22, 3),\n",
    "    Parameter.dynamic('theta', 90, 90),\n",
    "    Parameter.dynamic('phi', 180, 180),\n",
    "    Parameter.dynamic('alpha', 180, 180),\n",
    "    Parameter.dynamic('beta', 90, 90),\n",
    "    Parameter.dynamic('gamma', 180, 180),\n",
    "]"
   ]
  },
  {
   "cell_type": "markdown",
   "id": "24898856",
   "metadata": {},
   "source": [
    "## Run optimisation\n",
    "For demonstration, we run a very short search using genetic algorithm (`GA`). Note that with such a short search we cannot be sure if the minimum energy configuration found is a global one.\n",
    "\n",
    "It seems that when using more than 1 core the optimisation will fail. I will see if I can fix this issue."
   ]
  },
  {
   "cell_type": "code",
   "execution_count": null,
   "id": "21e42199",
   "metadata": {
    "ExecuteTime": {
     "start_time": "2021-11-27T16:13:44.169Z"
    },
    "scrolled": false
   },
   "outputs": [],
   "source": [
    "opt_ga = ev_opts.GA(Dimer, sequences, parameters, \n",
    "                    eval_fn=get_buff_total_energy,\n",
    "                    build_fn=build_model)\n",
    "\n",
    "opt_ga.run_opt(pop_size=20,\n",
    "               generations=5,\n",
    "               cores=1,\n",
    "               plot=True)"
   ]
  },
  {
   "cell_type": "code",
   "execution_count": null,
   "id": "44e87297",
   "metadata": {
    "ExecuteTime": {
     "start_time": "2021-11-27T16:13:44.171Z"
    }
   },
   "outputs": [],
   "source": [
    "best_dimer = opt_ga.best_model\n",
    "best_idx = opt_ga.halloffame[0]\n",
    "final_params = opt_ga.parse_individual(best_idx)\n",
    "print(final_params)"
   ]
  },
  {
   "cell_type": "code",
   "execution_count": null,
   "id": "f6726c26",
   "metadata": {
    "ExecuteTime": {
     "start_time": "2021-11-27T16:13:44.174Z"
    }
   },
   "outputs": [],
   "source": [
    "# visualise the best dimer \n",
    "view = visualise(best_dimer)\n",
    "view.clear()\n",
    "view.add_ball_and_stick('protein', color_scheme='residueindex')\n",
    "view"
   ]
  },
  {
   "cell_type": "code",
   "execution_count": null,
   "id": "faddb354",
   "metadata": {
    "ExecuteTime": {
     "start_time": "2021-11-27T16:13:44.176Z"
    }
   },
   "outputs": [],
   "source": [
    "view.render_image()\n",
    "view._display_image()"
   ]
  },
  {
   "cell_type": "code",
   "execution_count": null,
   "id": "08ae1abd",
   "metadata": {
    "ExecuteTime": {
     "start_time": "2021-11-27T16:13:44.178Z"
    }
   },
   "outputs": [],
   "source": [
    "# Saving the best dimer PDB file\n",
    "with open('best_dimer.pdb', 'w') as f:\n",
    "    f.write(best_dimer.pdb)"
   ]
  },
  {
   "cell_type": "code",
   "execution_count": null,
   "id": "35b97ba1",
   "metadata": {
    "ExecuteTime": {
     "start_time": "2021-11-27T16:13:44.180Z"
    }
   },
   "outputs": [],
   "source": [
    "Dimer"
   ]
  },
  {
   "cell_type": "code",
   "execution_count": null,
   "id": "6872091a",
   "metadata": {},
   "outputs": [],
   "source": []
  }
 ],
 "metadata": {
  "kernelspec": {
   "display_name": "Python 3 (ipykernel)",
   "language": "python",
   "name": "python3"
  },
  "language_info": {
   "codemirror_mode": {
    "name": "ipython",
    "version": 3
   },
   "file_extension": ".py",
   "mimetype": "text/x-python",
   "name": "python",
   "nbconvert_exporter": "python",
   "pygments_lexer": "ipython3",
   "version": "3.8.8"
  },
  "toc": {
   "base_numbering": 1,
   "nav_menu": {},
   "number_sections": true,
   "sideBar": true,
   "skip_h1_title": false,
   "title_cell": "Table of Contents",
   "title_sidebar": "Contents",
   "toc_cell": false,
   "toc_position": {},
   "toc_section_display": true,
   "toc_window_display": false
  }
 },
 "nbformat": 4,
 "nbformat_minor": 5
}
